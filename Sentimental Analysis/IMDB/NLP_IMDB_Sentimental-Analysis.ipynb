{
 "metadata": {
  "language_info": {
   "codemirror_mode": {
    "name": "ipython",
    "version": 3
   },
   "file_extension": ".py",
   "mimetype": "text/x-python",
   "name": "python",
   "nbconvert_exporter": "python",
   "pygments_lexer": "ipython3",
   "version": "3.8.5-final"
  },
  "orig_nbformat": 2,
  "kernelspec": {
   "name": "python_defaultSpec_1600884987827",
   "display_name": "Python 3.8.5 64-bit"
  }
 },
 "nbformat": 4,
 "nbformat_minor": 2,
 "cells": [
  {
   "cell_type": "code",
   "execution_count": 2,
   "metadata": {
    "tags": []
   },
   "outputs": [],
   "source": [
    "import tensorflow_datasets as tfds \n",
    "\n",
    "imdb, info = tfds.load(\"imdb_reviews\", with_info = True, as_supervised = True)"
   ]
  },
  {
   "cell_type": "code",
   "execution_count": 3,
   "metadata": {},
   "outputs": [],
   "source": [
    "train_data, test_data = imdb['train'], imdb['test']"
   ]
  },
  {
   "cell_type": "code",
   "execution_count": 4,
   "metadata": {},
   "outputs": [],
   "source": [
    "import numpy as np \n",
    "\n",
    "training_sentences = []\n",
    "training_labels = []\n",
    "\n",
    "testing_sentences = [] \n",
    "testing_labels = []\n"
   ]
  },
  {
   "cell_type": "code",
   "execution_count": 5,
   "metadata": {},
   "outputs": [],
   "source": [
    "for s,l in train_data:\n",
    "    training_sentences.append(str(s.numpy().decode('utf8')))\n",
    "    training_labels.append(l.numpy())"
   ]
  },
  {
   "cell_type": "code",
   "execution_count": 6,
   "metadata": {},
   "outputs": [],
   "source": [
    "for s,l in test_data:\n",
    "  testing_sentences.append(s.numpy().decode('utf8'))\n",
    "  testing_labels.append(l.numpy())"
   ]
  },
  {
   "cell_type": "code",
   "execution_count": 7,
   "metadata": {},
   "outputs": [],
   "source": [
    "training_labels_final = np.array(training_labels)\n",
    "testing_labels_final = np.array(testing_labels)"
   ]
  },
  {
   "cell_type": "code",
   "execution_count": 8,
   "metadata": {},
   "outputs": [],
   "source": [
    "vocab_size = 10000\n",
    "embedding_dim = 16\n",
    "max_length = 120\n",
    "trunc_type = 'post'\n",
    "oov_tok = \"<!@#>\""
   ]
  },
  {
   "cell_type": "code",
   "execution_count": 9,
   "metadata": {},
   "outputs": [],
   "source": [
    "from tensorflow.keras.preprocessing.text import Tokenizer\n",
    "from tensorflow.keras.preprocessing.sequence import pad_sequences"
   ]
  },
  {
   "cell_type": "code",
   "execution_count": 10,
   "metadata": {},
   "outputs": [],
   "source": [
    "tokenizer = Tokenizer(num_words = vocab_size, oov_token=oov_tok)\n",
    "tokenizer.fit_on_texts(training_sentences)\n",
    "\n",
    "word_index = tokenizer.word_index\n",
    "\n",
    "sequences = tokenizer.texts_to_sequences(training_sentences)\n",
    "padded = pad_sequences(sequences,maxlen=max_length, truncating=trunc_type)"
   ]
  },
  {
   "cell_type": "code",
   "execution_count": 11,
   "metadata": {},
   "outputs": [],
   "source": [
    "testing_sequences = tokenizer.texts_to_sequences(testing_sentences)\n",
    "testing_padded = pad_sequences(testing_sequences,maxlen=max_length)"
   ]
  },
  {
   "cell_type": "code",
   "execution_count": 12,
   "metadata": {
    "tags": []
   },
   "outputs": [],
   "source": [
    "import tensorflow as tf "
   ]
  },
  {
   "cell_type": "code",
   "execution_count": 13,
   "metadata": {},
   "outputs": [],
   "source": [
    "model = tf.keras.Sequential([\n",
    "    tf.keras.layers.Embedding(vocab_size, embedding_dim, input_length=max_length),\n",
    "    tf.keras.layers.Flatten(),\n",
    "    tf.keras.layers.Dense(6, activation='relu'),\n",
    "    tf.keras.layers.Dense(1,activation='sigmoid')\n",
    "])"
   ]
  },
  {
   "cell_type": "code",
   "execution_count": 14,
   "metadata": {
    "tags": []
   },
   "outputs": [
    {
     "output_type": "stream",
     "name": "stdout",
     "text": "Model: \"sequential\"\n_________________________________________________________________\nLayer (type)                 Output Shape              Param #   \n=================================================================\nembedding (Embedding)        (None, 120, 16)           160000    \n_________________________________________________________________\nflatten (Flatten)            (None, 1920)              0         \n_________________________________________________________________\ndense (Dense)                (None, 6)                 11526     \n_________________________________________________________________\ndense_1 (Dense)              (None, 1)                 7         \n=================================================================\nTotal params: 171,533\nTrainable params: 171,533\nNon-trainable params: 0\n_________________________________________________________________\n"
    }
   ],
   "source": [
    "model.summary()"
   ]
  },
  {
   "cell_type": "code",
   "execution_count": 15,
   "metadata": {},
   "outputs": [],
   "source": [
    "model1 = tf.keras.Sequential([\n",
    "    tf.keras.layers.Embedding(vocab_size, embedding_dim, input_length=max_length),\n",
    "    tf.keras.layers.GlobalAveragePooling1D(),\n",
    "    tf.keras.layers.Dense(6,activation='relu'),\n",
    "    tf.keras.layers.Dense(1,activation='sigmoid')\n",
    "])"
   ]
  },
  {
   "cell_type": "code",
   "execution_count": 16,
   "metadata": {
    "tags": []
   },
   "outputs": [
    {
     "output_type": "stream",
     "name": "stdout",
     "text": "Model: \"sequential_1\"\n_________________________________________________________________\nLayer (type)                 Output Shape              Param #   \n=================================================================\nembedding_1 (Embedding)      (None, 120, 16)           160000    \n_________________________________________________________________\nglobal_average_pooling1d (Gl (None, 16)                0         \n_________________________________________________________________\ndense_2 (Dense)              (None, 6)                 102       \n_________________________________________________________________\ndense_3 (Dense)              (None, 1)                 7         \n=================================================================\nTotal params: 160,109\nTrainable params: 160,109\nNon-trainable params: 0\n_________________________________________________________________\n"
    }
   ],
   "source": [
    "model1.summary()"
   ]
  },
  {
   "cell_type": "code",
   "execution_count": 17,
   "metadata": {},
   "outputs": [],
   "source": [
    "model.compile(loss='binary_crossentropy', optimizer='adam', metrics=['accuracy'])"
   ]
  },
  {
   "cell_type": "code",
   "execution_count": 18,
   "metadata": {},
   "outputs": [],
   "source": [
    "model1.compile(loss='binary_crossentropy', optimizer='adam', metrics=['accuracy'])"
   ]
  },
  {
   "cell_type": "code",
   "execution_count": 19,
   "metadata": {
    "tags": []
   },
   "outputs": [
    {
     "output_type": "stream",
     "name": "stdout",
     "text": "Epoch 1/10\n782/782 [==============================] - 5s 6ms/step - loss: 0.4979 - accuracy: 0.7356 - val_loss: 0.3448 - val_accuracy: 0.8508\nEpoch 2/10\n782/782 [==============================] - 4s 5ms/step - loss: 0.2388 - accuracy: 0.9079 - val_loss: 0.3647 - val_accuracy: 0.8421\nEpoch 3/10\n782/782 [==============================] - 4s 5ms/step - loss: 0.0919 - accuracy: 0.9757 - val_loss: 0.4499 - val_accuracy: 0.8301\nEpoch 4/10\n782/782 [==============================] - 3s 4ms/step - loss: 0.0222 - accuracy: 0.9969 - val_loss: 0.5258 - val_accuracy: 0.8291\nEpoch 5/10\n782/782 [==============================] - 3s 4ms/step - loss: 0.0059 - accuracy: 0.9994 - val_loss: 0.5916 - val_accuracy: 0.8278\nEpoch 6/10\n782/782 [==============================] - 4s 5ms/step - loss: 0.0018 - accuracy: 1.0000 - val_loss: 0.6415 - val_accuracy: 0.8284\nEpoch 7/10\n782/782 [==============================] - 4s 4ms/step - loss: 8.3874e-04 - accuracy: 1.0000 - val_loss: 0.6825 - val_accuracy: 0.8298\nEpoch 8/10\n782/782 [==============================] - 5s 6ms/step - loss: 4.6514e-04 - accuracy: 1.0000 - val_loss: 0.7235 - val_accuracy: 0.8299\nEpoch 9/10\n782/782 [==============================] - 4s 6ms/step - loss: 2.6665e-04 - accuracy: 1.0000 - val_loss: 0.7597 - val_accuracy: 0.8308\nEpoch 10/10\n782/782 [==============================] - 4s 5ms/step - loss: 1.6304e-04 - accuracy: 1.0000 - val_loss: 0.7971 - val_accuracy: 0.8305\n"
    },
    {
     "output_type": "execute_result",
     "data": {
      "text/plain": "<tensorflow.python.keras.callbacks.History at 0x145104bbdc0>"
     },
     "metadata": {},
     "execution_count": 19
    }
   ],
   "source": [
    "model.fit(\n",
    "    padded,\n",
    "    training_labels_final,\n",
    "    epochs = 10,\n",
    "    validation_data=(testing_padded,testing_labels_final)\n",
    ")"
   ]
  },
  {
   "cell_type": "code",
   "execution_count": 20,
   "metadata": {
    "tags": []
   },
   "outputs": [
    {
     "output_type": "stream",
     "name": "stdout",
     "text": "Epoch 1/10\n782/782 [==============================] - 4s 6ms/step - loss: 0.5728 - accuracy: 0.7216 - val_loss: 0.4021 - val_accuracy: 0.8410\nEpoch 2/10\n782/782 [==============================] - 4s 5ms/step - loss: 0.3411 - accuracy: 0.8588 - val_loss: 0.3390 - val_accuracy: 0.8531\nEpoch 3/10\n782/782 [==============================] - 3s 4ms/step - loss: 0.2737 - accuracy: 0.8880 - val_loss: 0.3304 - val_accuracy: 0.8574\nEpoch 4/10\n782/782 [==============================] - 4s 5ms/step - loss: 0.2377 - accuracy: 0.9071 - val_loss: 0.3430 - val_accuracy: 0.8542\nEpoch 5/10\n782/782 [==============================] - 4s 5ms/step - loss: 0.2115 - accuracy: 0.9204 - val_loss: 0.3587 - val_accuracy: 0.8511\nEpoch 6/10\n782/782 [==============================] - 4s 5ms/step - loss: 0.1901 - accuracy: 0.9298 - val_loss: 0.3832 - val_accuracy: 0.8447\nEpoch 7/10\n782/782 [==============================] - 4s 5ms/step - loss: 0.1727 - accuracy: 0.9390 - val_loss: 0.4114 - val_accuracy: 0.8398\nEpoch 8/10\n782/782 [==============================] - 4s 6ms/step - loss: 0.1584 - accuracy: 0.9446 - val_loss: 0.4417 - val_accuracy: 0.8363\nEpoch 9/10\n782/782 [==============================] - 4s 5ms/step - loss: 0.1442 - accuracy: 0.9501 - val_loss: 0.4718 - val_accuracy: 0.8334\nEpoch 10/10\n782/782 [==============================] - 4s 5ms/step - loss: 0.1324 - accuracy: 0.9568 - val_loss: 0.5085 - val_accuracy: 0.8274\n"
    },
    {
     "output_type": "execute_result",
     "data": {
      "text/plain": "<tensorflow.python.keras.callbacks.History at 0x145141b4c70>"
     },
     "metadata": {},
     "execution_count": 20
    }
   ],
   "source": [
    "model1.fit(\n",
    "    padded,\n",
    "    training_labels_final,\n",
    "    epochs = 10,\n",
    "    validation_data=(testing_padded,testing_labels_final)\n",
    ")"
   ]
  },
  {
   "cell_type": "code",
   "execution_count": 21,
   "metadata": {
    "tags": []
   },
   "outputs": [
    {
     "output_type": "stream",
     "name": "stdout",
     "text": "? ? ? ? ? ? ? ? ? ? ? ? ? ? ? ? ? ? ? ? ? ? ? ? ? ? ? ? ? ? ? this is the kind of film for a snowy sunday afternoon when the rest of the world can go ahead with its own business as you <!@#> into a big arm chair and <!@#> for a couple of hours wonderful performances from cher and nicolas cage as always gently row the plot along there are no <!@#> to cross no dangerous waters just a warm and witty <!@#> through new york life at its best a family film in every sense and one that deserves the praise it received\nThis is the kind of film for a snowy Sunday afternoon when the rest of the world can go ahead with its own business as you descend into a big arm-chair and mellow for a couple of hours. Wonderful performances from Cher and Nicolas Cage (as always) gently row the plot along. There are no rapids to cross, no dangerous waters, just a warm and witty paddle through New York life at its best. A family film in every sense and one that deserves the praise it received.\n"
    }
   ],
   "source": [
    "reverse_word_index = dict([(value, key) for (key, value) in word_index.items()])\n",
    "\n",
    "def decode_review(text):\n",
    "    return ' '.join([reverse_word_index.get(i, '?') for i in text])\n",
    "\n",
    "print(decode_review(padded[3]))\n",
    "print(training_sentences[3])"
   ]
  },
  {
   "cell_type": "code",
   "execution_count": 22,
   "metadata": {
    "tags": []
   },
   "outputs": [
    {
     "output_type": "stream",
     "name": "stdout",
     "text": "[[11, 64, 102, 12, 7, 478, 1200]]\n"
    }
   ],
   "source": [
    "sentence = \"I really think this is amazing. honest.\"\n",
    "sequence = tokenizer.texts_to_sequences([sentence])\n",
    "print(sequence)"
   ]
  },
  {
   "cell_type": "code",
   "execution_count": 23,
   "metadata": {
    "tags": []
   },
   "outputs": [
    {
     "output_type": "stream",
     "name": "stdout",
     "text": "(10000, 16)\n"
    }
   ],
   "source": [
    "e = model.layers[0]\n",
    "weights = e.get_weights()[0]\n",
    "print(weights.shape)"
   ]
  },
  {
   "source": [
    "LSTM VERSION"
   ],
   "cell_type": "markdown",
   "metadata": {}
  },
  {
   "cell_type": "code",
   "execution_count": 24,
   "metadata": {},
   "outputs": [],
   "source": [
    "lstm_model = tf.keras.Sequential([\n",
    "    tf.keras.layers.Embedding(vocab_size, embedding_dim, input_length=max_length),\n",
    "    tf.keras.layers.Bidirectional(tf.keras.layers.LSTM(32)),\n",
    "    tf.keras.layers.Dense(6,activation='relu'),\n",
    "    tf.keras.layers.Dense(1,activation='sigmoid')\n",
    "])"
   ]
  },
  {
   "cell_type": "code",
   "execution_count": 25,
   "metadata": {},
   "outputs": [],
   "source": [
    "lstm_model.compile(loss = 'binary_crossentropy', optimizer='adam', metrics=['accuracy'])"
   ]
  },
  {
   "cell_type": "code",
   "execution_count": 26,
   "metadata": {
    "tags": []
   },
   "outputs": [
    {
     "output_type": "stream",
     "name": "stdout",
     "text": "Epoch 1/10\n782/782 [==============================] - 71s 91ms/step - loss: 0.4649 - accuracy: 0.7699 - val_loss: 0.3493 - val_accuracy: 0.8522\nEpoch 2/10\n782/782 [==============================] - 73s 93ms/step - loss: 0.2865 - accuracy: 0.8846 - val_loss: 0.3490 - val_accuracy: 0.8483\nEpoch 3/10\n782/782 [==============================] - 81s 103ms/step - loss: 0.2229 - accuracy: 0.9135 - val_loss: 0.3736 - val_accuracy: 0.8424\nEpoch 4/10\n782/782 [==============================] - 84s 108ms/step - loss: 0.1718 - accuracy: 0.9371 - val_loss: 0.5347 - val_accuracy: 0.8238\nEpoch 5/10\n782/782 [==============================] - 92s 118ms/step - loss: 0.1303 - accuracy: 0.9531 - val_loss: 0.5984 - val_accuracy: 0.8249\nEpoch 6/10\n782/782 [==============================] - 85s 109ms/step - loss: 0.0903 - accuracy: 0.9688 - val_loss: 0.6180 - val_accuracy: 0.8205\nEpoch 7/10\n782/782 [==============================] - 76s 97ms/step - loss: 0.0605 - accuracy: 0.9803 - val_loss: 0.6320 - val_accuracy: 0.8148\nEpoch 8/10\n782/782 [==============================] - 67s 86ms/step - loss: 0.0486 - accuracy: 0.9838 - val_loss: 0.8198 - val_accuracy: 0.8142\nEpoch 9/10\n782/782 [==============================] - 79s 101ms/step - loss: 0.0443 - accuracy: 0.9847 - val_loss: 0.7930 - val_accuracy: 0.8159\nEpoch 10/10\n782/782 [==============================] - 64s 82ms/step - loss: 0.0308 - accuracy: 0.9900 - val_loss: 0.9191 - val_accuracy: 0.8199\n"
    },
    {
     "output_type": "execute_result",
     "data": {
      "text/plain": "<tensorflow.python.keras.callbacks.History at 0x145217f4f10>"
     },
     "metadata": {},
     "execution_count": 26
    }
   ],
   "source": [
    "lstm_model.fit(\n",
    "    padded,\n",
    "    training_labels_final,\n",
    "    epochs = 10,\n",
    "    validation_data=(testing_padded,testing_labels_final)\n",
    ")"
   ]
  },
  {
   "cell_type": "code",
   "execution_count": 27,
   "metadata": {},
   "outputs": [],
   "source": [
    "gru_model = tf.keras.Sequential([\n",
    "    tf.keras.layers.Embedding(vocab_size, embedding_dim, input_length=max_length),\n",
    "    tf.keras.layers.Bidirectional(tf.keras.layers.GRU(32)),\n",
    "    tf.keras.layers.Dense(6,activation='relu'),\n",
    "    tf.keras.layers.Dense(1,activation='sigmoid')\n",
    "])"
   ]
  },
  {
   "cell_type": "code",
   "execution_count": 28,
   "metadata": {},
   "outputs": [],
   "source": [
    "gru_model.compile(loss = 'binary_crossentropy', optimizer='adam', metrics=['accuracy'])"
   ]
  },
  {
   "cell_type": "code",
   "execution_count": 29,
   "metadata": {
    "tags": []
   },
   "outputs": [
    {
     "output_type": "stream",
     "name": "stdout",
     "text": "Epoch 1/10\n782/782 [==============================] - 65s 83ms/step - loss: 0.5064 - accuracy: 0.7308 - val_loss: 0.3550 - val_accuracy: 0.8472\nEpoch 2/10\n782/782 [==============================] - 64s 81ms/step - loss: 0.3009 - accuracy: 0.8782 - val_loss: 0.3528 - val_accuracy: 0.8466\nEpoch 3/10\n782/782 [==============================] - 64s 81ms/step - loss: 0.2267 - accuracy: 0.9119 - val_loss: 0.3935 - val_accuracy: 0.8451\nEpoch 4/10\n782/782 [==============================] - 64s 82ms/step - loss: 0.1628 - accuracy: 0.9418 - val_loss: 0.4393 - val_accuracy: 0.8339\nEpoch 5/10\n782/782 [==============================] - 64s 82ms/step - loss: 0.1154 - accuracy: 0.9622 - val_loss: 0.5322 - val_accuracy: 0.8246\nEpoch 6/10\n782/782 [==============================] - 66s 85ms/step - loss: 0.0755 - accuracy: 0.9761 - val_loss: 0.5771 - val_accuracy: 0.8124\nEpoch 7/10\n782/782 [==============================] - 79s 101ms/step - loss: 0.0558 - accuracy: 0.9814 - val_loss: 0.7519 - val_accuracy: 0.8186\nEpoch 8/10\n782/782 [==============================] - 85s 109ms/step - loss: 0.0363 - accuracy: 0.9887 - val_loss: 0.7772 - val_accuracy: 0.8145\nEpoch 9/10\n782/782 [==============================] - 66s 85ms/step - loss: 0.0297 - accuracy: 0.9912 - val_loss: 0.8433 - val_accuracy: 0.8179\nEpoch 10/10\n782/782 [==============================] - 68s 86ms/step - loss: 0.0228 - accuracy: 0.9933 - val_loss: 0.8799 - val_accuracy: 0.8117\n"
    },
    {
     "output_type": "execute_result",
     "data": {
      "text/plain": "<tensorflow.python.keras.callbacks.History at 0x1452a1adaf0>"
     },
     "metadata": {},
     "execution_count": 29
    }
   ],
   "source": [
    "gru_model.fit(\n",
    "    padded,\n",
    "    training_labels_final,\n",
    "    epochs = 10,\n",
    "    validation_data=(testing_padded,testing_labels_final)\n",
    ")"
   ]
  },
  {
   "cell_type": "code",
   "execution_count": 30,
   "metadata": {},
   "outputs": [],
   "source": [
    "conv_model = tf.keras.Sequential([\n",
    "    tf.keras.layers.Embedding(vocab_size, embedding_dim, input_length=max_length),\n",
    "    tf.keras.layers.Conv1D(128, 5, activation='relu'),\n",
    "    tf.keras.layers.GlobalAveragePooling1D(),\n",
    "    tf.keras.layers.Dense(6, activation='relu'),\n",
    "    tf.keras.layers.Dense(1, activation='sigmoid')\n",
    "])\n",
    "conv_model.compile(loss='binary_crossentropy',optimizer='adam',metrics=['accuracy'])"
   ]
  },
  {
   "cell_type": "code",
   "execution_count": 31,
   "metadata": {
    "tags": []
   },
   "outputs": [
    {
     "output_type": "stream",
     "name": "stdout",
     "text": "Epoch 1/10\n782/782 [==============================] - 12s 15ms/step - loss: 0.4415 - accuracy: 0.7837 - val_loss: 0.3473 - val_accuracy: 0.8505\nEpoch 2/10\n782/782 [==============================] - 12s 16ms/step - loss: 0.2774 - accuracy: 0.8860 - val_loss: 0.3564 - val_accuracy: 0.8456\nEpoch 3/10\n782/782 [==============================] - 10s 13ms/step - loss: 0.2233 - accuracy: 0.9134 - val_loss: 0.3911 - val_accuracy: 0.8376\nEpoch 4/10\n782/782 [==============================] - 12s 15ms/step - loss: 0.1815 - accuracy: 0.9336 - val_loss: 0.4188 - val_accuracy: 0.8336\nEpoch 5/10\n782/782 [==============================] - 12s 16ms/step - loss: 0.1454 - accuracy: 0.9498 - val_loss: 0.4956 - val_accuracy: 0.8266\nEpoch 6/10\n782/782 [==============================] - 13s 17ms/step - loss: 0.1154 - accuracy: 0.9630 - val_loss: 0.5422 - val_accuracy: 0.8187\nEpoch 7/10\n782/782 [==============================] - 13s 16ms/step - loss: 0.0894 - accuracy: 0.9726 - val_loss: 0.6109 - val_accuracy: 0.8165\nEpoch 8/10\n782/782 [==============================] - 11s 14ms/step - loss: 0.0678 - accuracy: 0.9810 - val_loss: 0.7265 - val_accuracy: 0.8128\nEpoch 9/10\n782/782 [==============================] - 11s 14ms/step - loss: 0.0571 - accuracy: 0.9832 - val_loss: 0.7984 - val_accuracy: 0.8085\nEpoch 10/10\n782/782 [==============================] - 11s 14ms/step - loss: 0.0454 - accuracy: 0.9863 - val_loss: 0.9374 - val_accuracy: 0.8077\n"
    },
    {
     "output_type": "execute_result",
     "data": {
      "text/plain": "<tensorflow.python.keras.callbacks.History at 0x14531483220>"
     },
     "metadata": {},
     "execution_count": 31
    }
   ],
   "source": [
    "conv_model.fit(\n",
    "    padded,\n",
    "    training_labels_final,\n",
    "    epochs = 10,\n",
    "    validation_data=(testing_padded,testing_labels_final)\n",
    ")"
   ]
  },
  {
   "cell_type": "code",
   "execution_count": null,
   "metadata": {},
   "outputs": [],
   "source": []
  }
 ]
}