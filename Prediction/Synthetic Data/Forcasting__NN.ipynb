{
 "metadata": {
  "language_info": {
   "codemirror_mode": {
    "name": "ipython",
    "version": 3
   },
   "file_extension": ".py",
   "mimetype": "text/x-python",
   "name": "python",
   "nbconvert_exporter": "python",
   "pygments_lexer": "ipython3",
   "version": "3.8.5-final"
  },
  "orig_nbformat": 2,
  "kernelspec": {
   "name": "Python 3.8.5 64-bit",
   "display_name": "Python 3.8.5 64-bit",
   "metadata": {
    "interpreter": {
     "hash": "2521a8a7f039e406d41f61cc315f44375cafb175a2cd767f8288ce94b9cab4a5"
    }
   }
  }
 },
 "nbformat": 4,
 "nbformat_minor": 2,
 "cells": [
  {
   "cell_type": "code",
   "execution_count": 1,
   "metadata": {},
   "outputs": [],
   "source": [
    "import tensorflow as tf "
   ]
  },
  {
   "cell_type": "code",
   "execution_count": 5,
   "metadata": {
    "tags": []
   },
   "outputs": [
    {
     "output_type": "stream",
     "name": "stdout",
     "text": "0\n1\n2\n3\n4\n5\n6\n7\n8\n9\n"
    }
   ],
   "source": [
    "datasets = tf.data.Dataset.range(10)\n",
    "for val in datasets:\n",
    "    print(val.numpy())"
   ]
  },
  {
   "cell_type": "code",
   "execution_count": 8,
   "metadata": {
    "tags": []
   },
   "outputs": [
    {
     "output_type": "stream",
     "name": "stdout",
     "text": "0 1 2 3 4 \n1 2 3 4 5 \n2 3 4 5 6 \n3 4 5 6 7 \n4 5 6 7 8 \n5 6 7 8 9 \n6 7 8 9 \n7 8 9 \n8 9 \n9 \n"
    }
   ],
   "source": [
    "datasets = tf.data.Dataset.range(10)\n",
    "datasets = datasets.window(5, shift = 1)\n",
    "for win in datasets:\n",
    "    for val in win:\n",
    "        print(val.numpy(), end=\" \")\n",
    "    print()"
   ]
  },
  {
   "cell_type": "code",
   "execution_count": 9,
   "metadata": {
    "tags": []
   },
   "outputs": [
    {
     "output_type": "stream",
     "name": "stdout",
     "text": "0 1 2 3 4 \n1 2 3 4 5 \n2 3 4 5 6 \n3 4 5 6 7 \n4 5 6 7 8 \n5 6 7 8 9 \n"
    }
   ],
   "source": [
    "datasets = tf.data.Dataset.range(10)\n",
    "datasets = datasets.window(5, shift = 1, drop_remainder= True)\n",
    "for win in datasets:\n",
    "    for val in win:\n",
    "        print(val.numpy(), end=\" \")\n",
    "    print()"
   ]
  },
  {
   "cell_type": "code",
   "execution_count": 12,
   "metadata": {
    "tags": []
   },
   "outputs": [
    {
     "output_type": "stream",
     "name": "stdout",
     "text": "[0 1 2 3 4]\n[1 2 3 4 5]\n[2 3 4 5 6]\n[3 4 5 6 7]\n[4 5 6 7 8]\n[5 6 7 8 9]\n"
    }
   ],
   "source": [
    "datasets = tf.data.Dataset.range(10)\n",
    "datasets = datasets.window(5, shift = 1, drop_remainder= True)\n",
    "'''for win in datasets:\n",
    "    for val in win:\n",
    "        print(val.numpy(), end=\" \")\n",
    "    print()'''\n",
    "datasets = datasets.flat_map(lambda window : window.batch(5))\n",
    "for win in datasets:\n",
    "    print(win.numpy())"
   ]
  },
  {
   "cell_type": "code",
   "execution_count": 14,
   "metadata": {
    "tags": []
   },
   "outputs": [
    {
     "output_type": "stream",
     "name": "stdout",
     "text": "[0 1 2 3] [4]\n[1 2 3 4] [5]\n[2 3 4 5] [6]\n[3 4 5 6] [7]\n[4 5 6 7] [8]\n[5 6 7 8] [9]\n"
    }
   ],
   "source": [
    "datasets = tf.data.Dataset.range(10)\n",
    "datasets = datasets.window(5, shift = 1, drop_remainder= True)\n",
    "'''for win in datasets:\n",
    "    for val in win:\n",
    "        print(val.numpy(), end=\" \")\n",
    "    print()'''\n",
    "datasets = datasets.flat_map(lambda window : window.batch(5))\n",
    "datasets = datasets.map(lambda window : (window[:-1], window[-1:]))\n",
    "for x,y in datasets:\n",
    "    print(x.numpy(),y.numpy())"
   ]
  },
  {
   "cell_type": "code",
   "execution_count": 19,
   "metadata": {
    "tags": []
   },
   "outputs": [
    {
     "output_type": "stream",
     "name": "stdout",
     "text": "[3 4 5 6] [7]\n[4 5 6 7] [8]\n[0 1 2 3] [4]\n[2 3 4 5] [6]\n[1 2 3 4] [5]\n[5 6 7 8] [9]\n"
    }
   ],
   "source": [
    "datasets = tf.data.Dataset.range(10)\n",
    "datasets = datasets.window(5, shift = 1, drop_remainder= True)\n",
    "'''for win in datasets:\n",
    "    for val in win:\n",
    "        print(val.numpy(), end=\" \")\n",
    "    print()'''\n",
    "datasets = datasets.flat_map(lambda window : window.batch(5))\n",
    "datasets = datasets.map(lambda window : (window[:-1], window[-1:]))\n",
    "datasets = datasets.shuffle(buffer_size=10)\n",
    "for x,y in datasets:\n",
    "    print(x.numpy(),y.numpy())"
   ]
  },
  {
   "cell_type": "code",
   "execution_count": 22,
   "metadata": {
    "tags": []
   },
   "outputs": [
    {
     "output_type": "stream",
     "name": "stdout",
     "text": "[[2 3 4 5]\n [1 2 3 4]] [[6]\n [5]]\n[[4 5 6 7]\n [3 4 5 6]] [[8]\n [7]]\n[[5 6 7 8]\n [0 1 2 3]] [[9]\n [4]]\n"
    }
   ],
   "source": [
    "datasets = tf.data.Dataset.range(10)\n",
    "datasets = datasets.window(5, shift = 1, drop_remainder= True)\n",
    "'''for win in datasets:\n",
    "    for val in win:\n",
    "        print(val.numpy(), end=\" \")\n",
    "    print()'''\n",
    "datasets = datasets.flat_map(lambda window : window.batch(5))\n",
    "datasets = datasets.map(lambda window : (window[:-1], window[-1:]))\n",
    "datasets = datasets.shuffle(buffer_size=10)\n",
    "datasets = datasets.batch(2).prefetch(1)\n",
    "for x,y in datasets:\n",
    "    print(x.numpy(),y.numpy())"
   ]
  },
  {
   "source": [
    "NEURAL NETWORK TRAINING"
   ],
   "cell_type": "markdown",
   "metadata": {}
  },
  {
   "cell_type": "code",
   "execution_count": 30,
   "metadata": {},
   "outputs": [],
   "source": [
    "import numpy as np\n",
    "\n",
    "def plot_series(time, series, format=\"-\", start=0, end=None):\n",
    "    plt.plot(time[start:end], series[start:end], format)\n",
    "    plt.xlabel(\"Time\")\n",
    "    plt.ylabel(\"Value\")\n",
    "    plt.grid(True)\n",
    "\n",
    "def trend(time, slope=0):\n",
    "    return slope * time\n",
    "\n",
    "def seasonal_pattern(season_time):\n",
    "    \"\"\"Just an arbitrary pattern, you can change it if you wish\"\"\"\n",
    "    return np.where(season_time < 0.4,\n",
    "                    np.cos(season_time * 2 * np.pi),\n",
    "                    1 / np.exp(3 * season_time))\n",
    "\n",
    "def seasonality(time, period, amplitude=1, phase=0):\n",
    "    \"\"\"Repeats the same pattern at each period\"\"\"\n",
    "    season_time = ((time + phase) % period) / period\n",
    "    return amplitude * seasonal_pattern(season_time)\n",
    "\n",
    "def noise(time, noise_level=1, seed=None):\n",
    "    rnd = np.random.RandomState(seed)\n",
    "    return rnd.randn(len(time)) * noise_level\n",
    "\n",
    "time = np.arange(4 * 365 + 1, dtype=\"float32\")\n",
    "baseline = 10\n",
    "series = trend(time, 0.1)  \n",
    "baseline = 10\n",
    "amplitude = 40\n",
    "slope = 0.05\n",
    "noise_level = 5\n",
    "\n",
    "# Create the series\n",
    "series = baseline + trend(time, slope) + seasonality(time, period=365, amplitude=amplitude)\n",
    "# Update with noise\n",
    "series += noise(time, noise_level, seed=42)"
   ]
  },
  {
   "cell_type": "code",
   "execution_count": 31,
   "metadata": {},
   "outputs": [],
   "source": [
    "def window_dataset(series, window_size, buffer_size, shuffle_buffer):\n",
    "    datasets = tf.data.Dataset.from_tensor_slices(series)\n",
    "    datasets = datasets.window(window_size + 1, shift=1, drop_remainder= True)\n",
    "    datasets = datasets.flat_map(lambda window : window.batch(window_size + 1))\n",
    "    datasets = datasets.shuffle(shuffle_buffer).map(lambda window : (window[:-1], window[-1]))\n",
    "    datasets = datasets.batch(2).prefetch(1)\n",
    "    return datasets"
   ]
  },
  {
   "cell_type": "code",
   "execution_count": 32,
   "metadata": {},
   "outputs": [],
   "source": [
    "split_time = 1000\n",
    "time_train = time[:split_time]\n",
    "x_train = series[:split_time]\n",
    "time_valid = time[split_time:]\n",
    "x_valid = time[split_time:]"
   ]
  },
  {
   "cell_type": "code",
   "execution_count": 33,
   "metadata": {},
   "outputs": [],
   "source": [
    "window_size = 20\n",
    "batch_size = 32\n",
    "shuffle_buffer_size = 1000\n"
   ]
  },
  {
   "cell_type": "code",
   "execution_count": 34,
   "metadata": {},
   "outputs": [],
   "source": [
    "datasets = window_dataset(series, window_size, batch_size, shuffle_buffer_size)"
   ]
  },
  {
   "cell_type": "code",
   "execution_count": 35,
   "metadata": {},
   "outputs": [],
   "source": [
    "temp = tf.keras.layers.Dense(1, input_shape = [window_size])"
   ]
  },
  {
   "cell_type": "code",
   "execution_count": 36,
   "metadata": {},
   "outputs": [],
   "source": [
    "model = tf.keras.models.Sequential([temp])"
   ]
  },
  {
   "cell_type": "code",
   "execution_count": 37,
   "metadata": {},
   "outputs": [],
   "source": [
    "model.compile(loss='mse', optimizer=tf.keras.optimizers.SGD(learning_rate=1e-6, momentum=0.9))"
   ]
  },
  {
   "cell_type": "code",
   "execution_count": 38,
   "metadata": {
    "tags": []
   },
   "outputs": [
    {
     "output_type": "stream",
     "name": "stdout",
     "text": "Epoch 1/100\n721/721 [==============================] - 1s 1ms/step - loss: 124.3344\nEpoch 2/100\n721/721 [==============================] - 1s 1ms/step - loss: 83.1566\nEpoch 3/100\n721/721 [==============================] - 1s 1ms/step - loss: 69.9798\nEpoch 4/100\n721/721 [==============================] - 1s 1ms/step - loss: 71.8901\nEpoch 5/100\n721/721 [==============================] - 1s 1ms/step - loss: 61.3689\nEpoch 6/100\n721/721 [==============================] - 1s 1ms/step - loss: 59.7664\nEpoch 7/100\n721/721 [==============================] - 1s 1ms/step - loss: 57.5092\nEpoch 8/100\n721/721 [==============================] - 1s 960us/step - loss: 59.9057\nEpoch 9/100\n721/721 [==============================] - 1s 957us/step - loss: 60.6610\nEpoch 10/100\n721/721 [==============================] - 1s 944us/step - loss: 59.0359\nEpoch 11/100\n721/721 [==============================] - 1s 1ms/step - loss: 69.1207\nEpoch 12/100\n721/721 [==============================] - 1s 1ms/step - loss: 63.3679\nEpoch 13/100\n721/721 [==============================] - 1s 2ms/step - loss: 57.0422\nEpoch 14/100\n721/721 [==============================] - 1s 2ms/step - loss: 60.4989\nEpoch 15/100\n721/721 [==============================] - 1s 2ms/step - loss: 68.9944\nEpoch 16/100\n721/721 [==============================] - 1s 2ms/step - loss: 60.1692\nEpoch 17/100\n721/721 [==============================] - 1s 2ms/step - loss: 60.4759\nEpoch 18/100\n721/721 [==============================] - 1s 2ms/step - loss: 56.0988\nEpoch 19/100\n721/721 [==============================] - 1s 2ms/step - loss: 58.5566\nEpoch 20/100\n721/721 [==============================] - 1s 2ms/step - loss: 72.5757\nEpoch 21/100\n721/721 [==============================] - 1s 1ms/step - loss: 57.6121\nEpoch 22/100\n721/721 [==============================] - 1s 1ms/step - loss: 67.8763\nEpoch 23/100\n721/721 [==============================] - 1s 1ms/step - loss: 58.6164\nEpoch 24/100\n721/721 [==============================] - 1s 1ms/step - loss: 60.0299\nEpoch 25/100\n721/721 [==============================] - 1s 1ms/step - loss: 58.1844\nEpoch 26/100\n721/721 [==============================] - 1s 2ms/step - loss: 63.2044\nEpoch 27/100\n721/721 [==============================] - 1s 1ms/step - loss: 63.4243\nEpoch 28/100\n721/721 [==============================] - 1s 1ms/step - loss: 61.4649\nEpoch 29/100\n721/721 [==============================] - 1s 1ms/step - loss: 59.0293\nEpoch 30/100\n721/721 [==============================] - 1s 1ms/step - loss: 60.5332\nEpoch 31/100\n721/721 [==============================] - 1s 1ms/step - loss: 60.3377\nEpoch 32/100\n721/721 [==============================] - 1s 1ms/step - loss: 60.8017\nEpoch 33/100\n721/721 [==============================] - 1s 1ms/step - loss: 60.2573\nEpoch 34/100\n721/721 [==============================] - 1s 1ms/step - loss: 62.2921\nEpoch 35/100\n721/721 [==============================] - 1s 1ms/step - loss: 69.5499\nEpoch 36/100\n721/721 [==============================] - 1s 1ms/step - loss: 57.5993\nEpoch 37/100\n721/721 [==============================] - 1s 1ms/step - loss: 55.3466\nEpoch 38/100\n721/721 [==============================] - 1s 1ms/step - loss: 60.1557\nEpoch 39/100\n721/721 [==============================] - 1s 1ms/step - loss: 59.1219\nEpoch 40/100\n721/721 [==============================] - 1s 1ms/step - loss: 65.9127\nEpoch 41/100\n721/721 [==============================] - 1s 1ms/step - loss: 60.8277\nEpoch 42/100\n721/721 [==============================] - 1s 1ms/step - loss: 63.3264\nEpoch 43/100\n721/721 [==============================] - 1s 1ms/step - loss: 60.0537\nEpoch 44/100\n721/721 [==============================] - 1s 1ms/step - loss: 62.6491\nEpoch 45/100\n721/721 [==============================] - 1s 1ms/step - loss: 68.8498\nEpoch 46/100\n721/721 [==============================] - 1s 1ms/step - loss: 66.4595\nEpoch 47/100\n721/721 [==============================] - 1s 1ms/step - loss: 56.6376\nEpoch 48/100\n721/721 [==============================] - 1s 984us/step - loss: 60.2336\nEpoch 49/100\n721/721 [==============================] - 1s 1ms/step - loss: 64.5472\nEpoch 50/100\n721/721 [==============================] - 1s 971us/step - loss: 58.6115\nEpoch 51/100\n721/721 [==============================] - 1s 1ms/step - loss: 58.3491\nEpoch 52/100\n721/721 [==============================] - 1s 1ms/step - loss: 59.2364\nEpoch 53/100\n721/721 [==============================] - 1s 1ms/step - loss: 62.1407\nEpoch 54/100\n721/721 [==============================] - 1s 1ms/step - loss: 60.8489\nEpoch 55/100\n721/721 [==============================] - 1s 1ms/step - loss: 63.4943\nEpoch 56/100\n721/721 [==============================] - 1s 1ms/step - loss: 63.5954\nEpoch 57/100\n721/721 [==============================] - 1s 1ms/step - loss: 61.3991\nEpoch 58/100\n721/721 [==============================] - 1s 1ms/step - loss: 56.4981\nEpoch 59/100\n721/721 [==============================] - 1s 1ms/step - loss: 59.9385\nEpoch 60/100\n721/721 [==============================] - 1s 1ms/step - loss: 59.9755\nEpoch 61/100\n721/721 [==============================] - 1s 1ms/step - loss: 59.9196\nEpoch 62/100\n721/721 [==============================] - 1s 1ms/step - loss: 64.0511\nEpoch 63/100\n721/721 [==============================] - 1s 1ms/step - loss: 57.2142\nEpoch 64/100\n721/721 [==============================] - 1s 1ms/step - loss: 60.6426\nEpoch 65/100\n721/721 [==============================] - 1s 969us/step - loss: 68.0521\nEpoch 66/100\n721/721 [==============================] - 1s 1ms/step - loss: 62.1845\nEpoch 67/100\n721/721 [==============================] - 1s 1ms/step - loss: 58.6129\nEpoch 68/100\n721/721 [==============================] - 1s 1ms/step - loss: 57.7573\nEpoch 69/100\n721/721 [==============================] - 1s 993us/step - loss: 62.6412\nEpoch 70/100\n721/721 [==============================] - 1s 1ms/step - loss: 56.3951\nEpoch 71/100\n721/721 [==============================] - 1s 1ms/step - loss: 57.6819\nEpoch 72/100\n721/721 [==============================] - 1s 1ms/step - loss: 56.5727\nEpoch 73/100\n721/721 [==============================] - 1s 1ms/step - loss: 56.4991\nEpoch 74/100\n721/721 [==============================] - 1s 1ms/step - loss: 67.4387\nEpoch 75/100\n721/721 [==============================] - 1s 1ms/step - loss: 56.0879\nEpoch 76/100\n721/721 [==============================] - 1s 1ms/step - loss: 61.5462\nEpoch 77/100\n721/721 [==============================] - 1s 998us/step - loss: 59.6804\nEpoch 78/100\n721/721 [==============================] - 1s 963us/step - loss: 64.1120\nEpoch 79/100\n721/721 [==============================] - 1s 975us/step - loss: 60.1791\nEpoch 80/100\n721/721 [==============================] - 1s 1ms/step - loss: 63.1574\nEpoch 81/100\n721/721 [==============================] - 1s 975us/step - loss: 65.4958\nEpoch 82/100\n721/721 [==============================] - 1s 1ms/step - loss: 55.4781\nEpoch 83/100\n721/721 [==============================] - 1s 1ms/step - loss: 62.0032\nEpoch 84/100\n721/721 [==============================] - 1s 1ms/step - loss: 58.2367\nEpoch 85/100\n721/721 [==============================] - 1s 961us/step - loss: 59.3761\nEpoch 86/100\n721/721 [==============================] - 1s 994us/step - loss: 67.9636\nEpoch 87/100\n721/721 [==============================] - 1s 976us/step - loss: 56.2532\nEpoch 88/100\n721/721 [==============================] - 1s 1ms/step - loss: 56.7845\nEpoch 89/100\n721/721 [==============================] - 1s 1ms/step - loss: 67.5335\nEpoch 90/100\n721/721 [==============================] - 1s 991us/step - loss: 63.4842\nEpoch 91/100\n721/721 [==============================] - 1s 1ms/step - loss: 61.4572\nEpoch 92/100\n721/721 [==============================] - 1s 1ms/step - loss: 58.2339\nEpoch 93/100\n721/721 [==============================] - 1s 1ms/step - loss: 63.8645\nEpoch 94/100\n721/721 [==============================] - 1s 1ms/step - loss: 62.3463\nEpoch 95/100\n721/721 [==============================] - 1s 970us/step - loss: 62.8020\nEpoch 96/100\n721/721 [==============================] - 1s 1ms/step - loss: 58.9016\nEpoch 97/100\n721/721 [==============================] - 1s 987us/step - loss: 59.1492\nEpoch 98/100\n721/721 [==============================] - 1s 974us/step - loss: 61.6269\nEpoch 99/100\n721/721 [==============================] - 1s 1ms/step - loss: 61.3717\nEpoch 100/100\n721/721 [==============================] - 1s 1ms/step - loss: 63.0060\n"
    },
    {
     "output_type": "execute_result",
     "data": {
      "text/plain": "<tensorflow.python.keras.callbacks.History at 0x2cbf9c70220>"
     },
     "metadata": {},
     "execution_count": 38
    }
   ],
   "source": [
    "model.fit(\n",
    "    datasets,\n",
    "    epochs=100,\n",
    "    verbose=1\n",
    ")"
   ]
  },
  {
   "cell_type": "code",
   "execution_count": 39,
   "metadata": {
    "tags": []
   },
   "outputs": [
    {
     "output_type": "stream",
     "name": "stdout",
     "text": "Layer weights [array([[-0.02746488],\n       [-0.03975791],\n       [ 0.02755418],\n       [-0.01865245],\n       [ 0.05526684],\n       [-0.03917708],\n       [ 0.01164001],\n       [ 0.01683582],\n       [ 0.02247357],\n       [ 0.00131373],\n       [ 0.00606002],\n       [ 0.03334491],\n       [-0.03343702],\n       [ 0.03985035],\n       [ 0.03175322],\n       [ 0.02686582],\n       [ 0.03139866],\n       [ 0.19381909],\n       [ 0.26515403],\n       [ 0.4094789 ]], dtype=float32), array([0.19677953], dtype=float32)]\n"
    }
   ],
   "source": [
    "print(\"Layer weights {}\".format(temp.get_weights()))"
   ]
  },
  {
   "cell_type": "code",
   "execution_count": 42,
   "metadata": {},
   "outputs": [
    {
     "output_type": "display_data",
     "data": {
      "text/plain": "<Figure size 720x432 with 1 Axes>",
      "image/svg+xml": "<?xml version=\"1.0\" encoding=\"utf-8\" standalone=\"no\"?>\r\n<!DOCTYPE svg PUBLIC \"-//W3C//DTD SVG 1.1//EN\"\r\n  \"http://www.w3.org/Graphics/SVG/1.1/DTD/svg11.dtd\">\r\n<!-- Created with matplotlib (https://matplotlib.org/) -->\r\n<svg height=\"370.91625pt\" version=\"1.1\" viewBox=\"0 0 618.528125 370.91625\" width=\"618.528125pt\" xmlns=\"http://www.w3.org/2000/svg\" xmlns:xlink=\"http://www.w3.org/1999/xlink\">\r\n <metadata>\r\n  <rdf:RDF xmlns:cc=\"http://creativecommons.org/ns#\" xmlns:dc=\"http://purl.org/dc/elements/1.1/\" xmlns:rdf=\"http://www.w3.org/1999/02/22-rdf-syntax-ns#\">\r\n   <cc:Work>\r\n    <dc:type rdf:resource=\"http://purl.org/dc/dcmitype/StillImage\"/>\r\n    <dc:date>2020-09-24T23:29:37.132218</dc:date>\r\n    <dc:format>image/svg+xml</dc:format>\r\n    <dc:creator>\r\n     <cc:Agent>\r\n      <dc:title>Matplotlib v3.3.2, https://matplotlib.org/</dc:title>\r\n     </cc:Agent>\r\n    </dc:creator>\r\n   </cc:Work>\r\n  </rdf:RDF>\r\n </metadata>\r\n <defs>\r\n  <style type=\"text/css\">*{stroke-linecap:butt;stroke-linejoin:round;}</style>\r\n </defs>\r\n <g id=\"figure_1\">\r\n  <g id=\"patch_1\">\r\n   <path d=\"M 0 370.91625 \r\nL 618.528125 370.91625 \r\nL 618.528125 0 \r\nL 0 0 \r\nz\r\n\" style=\"fill:none;\"/>\r\n  </g>\r\n  <g id=\"axes_1\">\r\n   <g id=\"patch_2\">\r\n    <path d=\"M 53.328125 333.36 \r\nL 611.328125 333.36 \r\nL 611.328125 7.2 \r\nL 53.328125 7.2 \r\nz\r\n\" style=\"fill:#ffffff;\"/>\r\n   </g>\r\n   <g id=\"matplotlib.axis_1\">\r\n    <g id=\"xtick_1\">\r\n     <g id=\"line2d_1\">\r\n      <path clip-path=\"url(#p6f8482093c)\" d=\"M 78.691761 333.36 \r\nL 78.691761 7.2 \r\n\" style=\"fill:none;stroke:#b0b0b0;stroke-linecap:square;stroke-width:0.8;\"/>\r\n     </g>\r\n     <g id=\"line2d_2\">\r\n      <defs>\r\n       <path d=\"M 0 0 \r\nL 0 3.5 \r\n\" id=\"mf81d032190\" style=\"stroke:#000000;stroke-width:0.8;\"/>\r\n      </defs>\r\n      <g>\r\n       <use style=\"stroke:#000000;stroke-width:0.8;\" x=\"78.691761\" xlink:href=\"#mf81d032190\" y=\"333.36\"/>\r\n      </g>\r\n     </g>\r\n     <g id=\"text_1\">\r\n      <!-- 1000 -->\r\n      <g transform=\"translate(65.966761 347.958438)scale(0.1 -0.1)\">\r\n       <defs>\r\n        <path d=\"M 12.40625 8.296875 \r\nL 28.515625 8.296875 \r\nL 28.515625 63.921875 \r\nL 10.984375 60.40625 \r\nL 10.984375 69.390625 \r\nL 28.421875 72.90625 \r\nL 38.28125 72.90625 \r\nL 38.28125 8.296875 \r\nL 54.390625 8.296875 \r\nL 54.390625 0 \r\nL 12.40625 0 \r\nz\r\n\" id=\"DejaVuSans-49\"/>\r\n        <path d=\"M 31.78125 66.40625 \r\nQ 24.171875 66.40625 20.328125 58.90625 \r\nQ 16.5 51.421875 16.5 36.375 \r\nQ 16.5 21.390625 20.328125 13.890625 \r\nQ 24.171875 6.390625 31.78125 6.390625 \r\nQ 39.453125 6.390625 43.28125 13.890625 \r\nQ 47.125 21.390625 47.125 36.375 \r\nQ 47.125 51.421875 43.28125 58.90625 \r\nQ 39.453125 66.40625 31.78125 66.40625 \r\nz\r\nM 31.78125 74.21875 \r\nQ 44.046875 74.21875 50.515625 64.515625 \r\nQ 56.984375 54.828125 56.984375 36.375 \r\nQ 56.984375 17.96875 50.515625 8.265625 \r\nQ 44.046875 -1.421875 31.78125 -1.421875 \r\nQ 19.53125 -1.421875 13.0625 8.265625 \r\nQ 6.59375 17.96875 6.59375 36.375 \r\nQ 6.59375 54.828125 13.0625 64.515625 \r\nQ 19.53125 74.21875 31.78125 74.21875 \r\nz\r\n\" id=\"DejaVuSans-48\"/>\r\n       </defs>\r\n       <use xlink:href=\"#DejaVuSans-49\"/>\r\n       <use x=\"63.623047\" xlink:href=\"#DejaVuSans-48\"/>\r\n       <use x=\"127.246094\" xlink:href=\"#DejaVuSans-48\"/>\r\n       <use x=\"190.869141\" xlink:href=\"#DejaVuSans-48\"/>\r\n      </g>\r\n     </g>\r\n    </g>\r\n    <g id=\"xtick_2\">\r\n     <g id=\"line2d_3\">\r\n      <path clip-path=\"url(#p6f8482093c)\" d=\"M 188.968441 333.36 \r\nL 188.968441 7.2 \r\n\" style=\"fill:none;stroke:#b0b0b0;stroke-linecap:square;stroke-width:0.8;\"/>\r\n     </g>\r\n     <g id=\"line2d_4\">\r\n      <g>\r\n       <use style=\"stroke:#000000;stroke-width:0.8;\" x=\"188.968441\" xlink:href=\"#mf81d032190\" y=\"333.36\"/>\r\n      </g>\r\n     </g>\r\n     <g id=\"text_2\">\r\n      <!-- 1100 -->\r\n      <g transform=\"translate(176.243441 347.958438)scale(0.1 -0.1)\">\r\n       <use xlink:href=\"#DejaVuSans-49\"/>\r\n       <use x=\"63.623047\" xlink:href=\"#DejaVuSans-49\"/>\r\n       <use x=\"127.246094\" xlink:href=\"#DejaVuSans-48\"/>\r\n       <use x=\"190.869141\" xlink:href=\"#DejaVuSans-48\"/>\r\n      </g>\r\n     </g>\r\n    </g>\r\n    <g id=\"xtick_3\">\r\n     <g id=\"line2d_5\">\r\n      <path clip-path=\"url(#p6f8482093c)\" d=\"M 299.245121 333.36 \r\nL 299.245121 7.2 \r\n\" style=\"fill:none;stroke:#b0b0b0;stroke-linecap:square;stroke-width:0.8;\"/>\r\n     </g>\r\n     <g id=\"line2d_6\">\r\n      <g>\r\n       <use style=\"stroke:#000000;stroke-width:0.8;\" x=\"299.245121\" xlink:href=\"#mf81d032190\" y=\"333.36\"/>\r\n      </g>\r\n     </g>\r\n     <g id=\"text_3\">\r\n      <!-- 1200 -->\r\n      <g transform=\"translate(286.520121 347.958438)scale(0.1 -0.1)\">\r\n       <defs>\r\n        <path d=\"M 19.1875 8.296875 \r\nL 53.609375 8.296875 \r\nL 53.609375 0 \r\nL 7.328125 0 \r\nL 7.328125 8.296875 \r\nQ 12.9375 14.109375 22.625 23.890625 \r\nQ 32.328125 33.6875 34.8125 36.53125 \r\nQ 39.546875 41.84375 41.421875 45.53125 \r\nQ 43.3125 49.21875 43.3125 52.78125 \r\nQ 43.3125 58.59375 39.234375 62.25 \r\nQ 35.15625 65.921875 28.609375 65.921875 \r\nQ 23.96875 65.921875 18.8125 64.3125 \r\nQ 13.671875 62.703125 7.8125 59.421875 \r\nL 7.8125 69.390625 \r\nQ 13.765625 71.78125 18.9375 73 \r\nQ 24.125 74.21875 28.421875 74.21875 \r\nQ 39.75 74.21875 46.484375 68.546875 \r\nQ 53.21875 62.890625 53.21875 53.421875 \r\nQ 53.21875 48.921875 51.53125 44.890625 \r\nQ 49.859375 40.875 45.40625 35.40625 \r\nQ 44.1875 33.984375 37.640625 27.21875 \r\nQ 31.109375 20.453125 19.1875 8.296875 \r\nz\r\n\" id=\"DejaVuSans-50\"/>\r\n       </defs>\r\n       <use xlink:href=\"#DejaVuSans-49\"/>\r\n       <use x=\"63.623047\" xlink:href=\"#DejaVuSans-50\"/>\r\n       <use x=\"127.246094\" xlink:href=\"#DejaVuSans-48\"/>\r\n       <use x=\"190.869141\" xlink:href=\"#DejaVuSans-48\"/>\r\n      </g>\r\n     </g>\r\n    </g>\r\n    <g id=\"xtick_4\">\r\n     <g id=\"line2d_7\">\r\n      <path clip-path=\"url(#p6f8482093c)\" d=\"M 409.521801 333.36 \r\nL 409.521801 7.2 \r\n\" style=\"fill:none;stroke:#b0b0b0;stroke-linecap:square;stroke-width:0.8;\"/>\r\n     </g>\r\n     <g id=\"line2d_8\">\r\n      <g>\r\n       <use style=\"stroke:#000000;stroke-width:0.8;\" x=\"409.521801\" xlink:href=\"#mf81d032190\" y=\"333.36\"/>\r\n      </g>\r\n     </g>\r\n     <g id=\"text_4\">\r\n      <!-- 1300 -->\r\n      <g transform=\"translate(396.796801 347.958438)scale(0.1 -0.1)\">\r\n       <defs>\r\n        <path d=\"M 40.578125 39.3125 \r\nQ 47.65625 37.796875 51.625 33 \r\nQ 55.609375 28.21875 55.609375 21.1875 \r\nQ 55.609375 10.40625 48.1875 4.484375 \r\nQ 40.765625 -1.421875 27.09375 -1.421875 \r\nQ 22.515625 -1.421875 17.65625 -0.515625 \r\nQ 12.796875 0.390625 7.625 2.203125 \r\nL 7.625 11.71875 \r\nQ 11.71875 9.328125 16.59375 8.109375 \r\nQ 21.484375 6.890625 26.8125 6.890625 \r\nQ 36.078125 6.890625 40.9375 10.546875 \r\nQ 45.796875 14.203125 45.796875 21.1875 \r\nQ 45.796875 27.640625 41.28125 31.265625 \r\nQ 36.765625 34.90625 28.71875 34.90625 \r\nL 20.21875 34.90625 \r\nL 20.21875 43.015625 \r\nL 29.109375 43.015625 \r\nQ 36.375 43.015625 40.234375 45.921875 \r\nQ 44.09375 48.828125 44.09375 54.296875 \r\nQ 44.09375 59.90625 40.109375 62.90625 \r\nQ 36.140625 65.921875 28.71875 65.921875 \r\nQ 24.65625 65.921875 20.015625 65.03125 \r\nQ 15.375 64.15625 9.8125 62.3125 \r\nL 9.8125 71.09375 \r\nQ 15.4375 72.65625 20.34375 73.4375 \r\nQ 25.25 74.21875 29.59375 74.21875 \r\nQ 40.828125 74.21875 47.359375 69.109375 \r\nQ 53.90625 64.015625 53.90625 55.328125 \r\nQ 53.90625 49.265625 50.4375 45.09375 \r\nQ 46.96875 40.921875 40.578125 39.3125 \r\nz\r\n\" id=\"DejaVuSans-51\"/>\r\n       </defs>\r\n       <use xlink:href=\"#DejaVuSans-49\"/>\r\n       <use x=\"63.623047\" xlink:href=\"#DejaVuSans-51\"/>\r\n       <use x=\"127.246094\" xlink:href=\"#DejaVuSans-48\"/>\r\n       <use x=\"190.869141\" xlink:href=\"#DejaVuSans-48\"/>\r\n      </g>\r\n     </g>\r\n    </g>\r\n    <g id=\"xtick_5\">\r\n     <g id=\"line2d_9\">\r\n      <path clip-path=\"url(#p6f8482093c)\" d=\"M 519.798481 333.36 \r\nL 519.798481 7.2 \r\n\" style=\"fill:none;stroke:#b0b0b0;stroke-linecap:square;stroke-width:0.8;\"/>\r\n     </g>\r\n     <g id=\"line2d_10\">\r\n      <g>\r\n       <use style=\"stroke:#000000;stroke-width:0.8;\" x=\"519.798481\" xlink:href=\"#mf81d032190\" y=\"333.36\"/>\r\n      </g>\r\n     </g>\r\n     <g id=\"text_5\">\r\n      <!-- 1400 -->\r\n      <g transform=\"translate(507.073481 347.958438)scale(0.1 -0.1)\">\r\n       <defs>\r\n        <path d=\"M 37.796875 64.3125 \r\nL 12.890625 25.390625 \r\nL 37.796875 25.390625 \r\nz\r\nM 35.203125 72.90625 \r\nL 47.609375 72.90625 \r\nL 47.609375 25.390625 \r\nL 58.015625 25.390625 \r\nL 58.015625 17.1875 \r\nL 47.609375 17.1875 \r\nL 47.609375 0 \r\nL 37.796875 0 \r\nL 37.796875 17.1875 \r\nL 4.890625 17.1875 \r\nL 4.890625 26.703125 \r\nz\r\n\" id=\"DejaVuSans-52\"/>\r\n       </defs>\r\n       <use xlink:href=\"#DejaVuSans-49\"/>\r\n       <use x=\"63.623047\" xlink:href=\"#DejaVuSans-52\"/>\r\n       <use x=\"127.246094\" xlink:href=\"#DejaVuSans-48\"/>\r\n       <use x=\"190.869141\" xlink:href=\"#DejaVuSans-48\"/>\r\n      </g>\r\n     </g>\r\n    </g>\r\n    <g id=\"text_6\">\r\n     <!-- Time -->\r\n     <g transform=\"translate(320.094531 361.636563)scale(0.1 -0.1)\">\r\n      <defs>\r\n       <path d=\"M -0.296875 72.90625 \r\nL 61.375 72.90625 \r\nL 61.375 64.59375 \r\nL 35.5 64.59375 \r\nL 35.5 0 \r\nL 25.59375 0 \r\nL 25.59375 64.59375 \r\nL -0.296875 64.59375 \r\nz\r\n\" id=\"DejaVuSans-84\"/>\r\n       <path d=\"M 9.421875 54.6875 \r\nL 18.40625 54.6875 \r\nL 18.40625 0 \r\nL 9.421875 0 \r\nz\r\nM 9.421875 75.984375 \r\nL 18.40625 75.984375 \r\nL 18.40625 64.59375 \r\nL 9.421875 64.59375 \r\nz\r\n\" id=\"DejaVuSans-105\"/>\r\n       <path d=\"M 52 44.1875 \r\nQ 55.375 50.25 60.0625 53.125 \r\nQ 64.75 56 71.09375 56 \r\nQ 79.640625 56 84.28125 50.015625 \r\nQ 88.921875 44.046875 88.921875 33.015625 \r\nL 88.921875 0 \r\nL 79.890625 0 \r\nL 79.890625 32.71875 \r\nQ 79.890625 40.578125 77.09375 44.375 \r\nQ 74.3125 48.1875 68.609375 48.1875 \r\nQ 61.625 48.1875 57.5625 43.546875 \r\nQ 53.515625 38.921875 53.515625 30.90625 \r\nL 53.515625 0 \r\nL 44.484375 0 \r\nL 44.484375 32.71875 \r\nQ 44.484375 40.625 41.703125 44.40625 \r\nQ 38.921875 48.1875 33.109375 48.1875 \r\nQ 26.21875 48.1875 22.15625 43.53125 \r\nQ 18.109375 38.875 18.109375 30.90625 \r\nL 18.109375 0 \r\nL 9.078125 0 \r\nL 9.078125 54.6875 \r\nL 18.109375 54.6875 \r\nL 18.109375 46.1875 \r\nQ 21.1875 51.21875 25.484375 53.609375 \r\nQ 29.78125 56 35.6875 56 \r\nQ 41.65625 56 45.828125 52.96875 \r\nQ 50 49.953125 52 44.1875 \r\nz\r\n\" id=\"DejaVuSans-109\"/>\r\n       <path d=\"M 56.203125 29.59375 \r\nL 56.203125 25.203125 \r\nL 14.890625 25.203125 \r\nQ 15.484375 15.921875 20.484375 11.0625 \r\nQ 25.484375 6.203125 34.421875 6.203125 \r\nQ 39.59375 6.203125 44.453125 7.46875 \r\nQ 49.3125 8.734375 54.109375 11.28125 \r\nL 54.109375 2.78125 \r\nQ 49.265625 0.734375 44.1875 -0.34375 \r\nQ 39.109375 -1.421875 33.890625 -1.421875 \r\nQ 20.796875 -1.421875 13.15625 6.1875 \r\nQ 5.515625 13.8125 5.515625 26.8125 \r\nQ 5.515625 40.234375 12.765625 48.109375 \r\nQ 20.015625 56 32.328125 56 \r\nQ 43.359375 56 49.78125 48.890625 \r\nQ 56.203125 41.796875 56.203125 29.59375 \r\nz\r\nM 47.21875 32.234375 \r\nQ 47.125 39.59375 43.09375 43.984375 \r\nQ 39.0625 48.390625 32.421875 48.390625 \r\nQ 24.90625 48.390625 20.390625 44.140625 \r\nQ 15.875 39.890625 15.1875 32.171875 \r\nz\r\n\" id=\"DejaVuSans-101\"/>\r\n      </defs>\r\n      <use xlink:href=\"#DejaVuSans-84\"/>\r\n      <use x=\"57.958984\" xlink:href=\"#DejaVuSans-105\"/>\r\n      <use x=\"85.742188\" xlink:href=\"#DejaVuSans-109\"/>\r\n      <use x=\"183.154297\" xlink:href=\"#DejaVuSans-101\"/>\r\n     </g>\r\n    </g>\r\n   </g>\r\n   <g id=\"matplotlib.axis_2\">\r\n    <g id=\"ytick_1\">\r\n     <g id=\"line2d_11\">\r\n      <path clip-path=\"url(#p6f8482093c)\" d=\"M 53.328125 327.527186 \r\nL 611.328125 327.527186 \r\n\" style=\"fill:none;stroke:#b0b0b0;stroke-linecap:square;stroke-width:0.8;\"/>\r\n     </g>\r\n     <g id=\"line2d_12\">\r\n      <defs>\r\n       <path d=\"M 0 0 \r\nL -3.5 0 \r\n\" id=\"m5c93c95f63\" style=\"stroke:#000000;stroke-width:0.8;\"/>\r\n      </defs>\r\n      <g>\r\n       <use style=\"stroke:#000000;stroke-width:0.8;\" x=\"53.328125\" xlink:href=\"#m5c93c95f63\" y=\"327.527186\"/>\r\n      </g>\r\n     </g>\r\n     <g id=\"text_7\">\r\n      <!-- 0 -->\r\n      <g transform=\"translate(39.965625 331.326404)scale(0.1 -0.1)\">\r\n       <use xlink:href=\"#DejaVuSans-48\"/>\r\n      </g>\r\n     </g>\r\n    </g>\r\n    <g id=\"ytick_2\">\r\n     <g id=\"line2d_13\">\r\n      <path clip-path=\"url(#p6f8482093c)\" d=\"M 53.328125 285.677633 \r\nL 611.328125 285.677633 \r\n\" style=\"fill:none;stroke:#b0b0b0;stroke-linecap:square;stroke-width:0.8;\"/>\r\n     </g>\r\n     <g id=\"line2d_14\">\r\n      <g>\r\n       <use style=\"stroke:#000000;stroke-width:0.8;\" x=\"53.328125\" xlink:href=\"#m5c93c95f63\" y=\"285.677633\"/>\r\n      </g>\r\n     </g>\r\n     <g id=\"text_8\">\r\n      <!-- 200 -->\r\n      <g transform=\"translate(27.240625 289.476852)scale(0.1 -0.1)\">\r\n       <use xlink:href=\"#DejaVuSans-50\"/>\r\n       <use x=\"63.623047\" xlink:href=\"#DejaVuSans-48\"/>\r\n       <use x=\"127.246094\" xlink:href=\"#DejaVuSans-48\"/>\r\n      </g>\r\n     </g>\r\n    </g>\r\n    <g id=\"ytick_3\">\r\n     <g id=\"line2d_15\">\r\n      <path clip-path=\"url(#p6f8482093c)\" d=\"M 53.328125 243.828081 \r\nL 611.328125 243.828081 \r\n\" style=\"fill:none;stroke:#b0b0b0;stroke-linecap:square;stroke-width:0.8;\"/>\r\n     </g>\r\n     <g id=\"line2d_16\">\r\n      <g>\r\n       <use style=\"stroke:#000000;stroke-width:0.8;\" x=\"53.328125\" xlink:href=\"#m5c93c95f63\" y=\"243.828081\"/>\r\n      </g>\r\n     </g>\r\n     <g id=\"text_9\">\r\n      <!-- 400 -->\r\n      <g transform=\"translate(27.240625 247.6273)scale(0.1 -0.1)\">\r\n       <use xlink:href=\"#DejaVuSans-52\"/>\r\n       <use x=\"63.623047\" xlink:href=\"#DejaVuSans-48\"/>\r\n       <use x=\"127.246094\" xlink:href=\"#DejaVuSans-48\"/>\r\n      </g>\r\n     </g>\r\n    </g>\r\n    <g id=\"ytick_4\">\r\n     <g id=\"line2d_17\">\r\n      <path clip-path=\"url(#p6f8482093c)\" d=\"M 53.328125 201.978529 \r\nL 611.328125 201.978529 \r\n\" style=\"fill:none;stroke:#b0b0b0;stroke-linecap:square;stroke-width:0.8;\"/>\r\n     </g>\r\n     <g id=\"line2d_18\">\r\n      <g>\r\n       <use style=\"stroke:#000000;stroke-width:0.8;\" x=\"53.328125\" xlink:href=\"#m5c93c95f63\" y=\"201.978529\"/>\r\n      </g>\r\n     </g>\r\n     <g id=\"text_10\">\r\n      <!-- 600 -->\r\n      <g transform=\"translate(27.240625 205.777748)scale(0.1 -0.1)\">\r\n       <defs>\r\n        <path d=\"M 33.015625 40.375 \r\nQ 26.375 40.375 22.484375 35.828125 \r\nQ 18.609375 31.296875 18.609375 23.390625 \r\nQ 18.609375 15.53125 22.484375 10.953125 \r\nQ 26.375 6.390625 33.015625 6.390625 \r\nQ 39.65625 6.390625 43.53125 10.953125 \r\nQ 47.40625 15.53125 47.40625 23.390625 \r\nQ 47.40625 31.296875 43.53125 35.828125 \r\nQ 39.65625 40.375 33.015625 40.375 \r\nz\r\nM 52.59375 71.296875 \r\nL 52.59375 62.3125 \r\nQ 48.875 64.0625 45.09375 64.984375 \r\nQ 41.3125 65.921875 37.59375 65.921875 \r\nQ 27.828125 65.921875 22.671875 59.328125 \r\nQ 17.53125 52.734375 16.796875 39.40625 \r\nQ 19.671875 43.65625 24.015625 45.921875 \r\nQ 28.375 48.1875 33.59375 48.1875 \r\nQ 44.578125 48.1875 50.953125 41.515625 \r\nQ 57.328125 34.859375 57.328125 23.390625 \r\nQ 57.328125 12.15625 50.6875 5.359375 \r\nQ 44.046875 -1.421875 33.015625 -1.421875 \r\nQ 20.359375 -1.421875 13.671875 8.265625 \r\nQ 6.984375 17.96875 6.984375 36.375 \r\nQ 6.984375 53.65625 15.1875 63.9375 \r\nQ 23.390625 74.21875 37.203125 74.21875 \r\nQ 40.921875 74.21875 44.703125 73.484375 \r\nQ 48.484375 72.75 52.59375 71.296875 \r\nz\r\n\" id=\"DejaVuSans-54\"/>\r\n       </defs>\r\n       <use xlink:href=\"#DejaVuSans-54\"/>\r\n       <use x=\"63.623047\" xlink:href=\"#DejaVuSans-48\"/>\r\n       <use x=\"127.246094\" xlink:href=\"#DejaVuSans-48\"/>\r\n      </g>\r\n     </g>\r\n    </g>\r\n    <g id=\"ytick_5\">\r\n     <g id=\"line2d_19\">\r\n      <path clip-path=\"url(#p6f8482093c)\" d=\"M 53.328125 160.128977 \r\nL 611.328125 160.128977 \r\n\" style=\"fill:none;stroke:#b0b0b0;stroke-linecap:square;stroke-width:0.8;\"/>\r\n     </g>\r\n     <g id=\"line2d_20\">\r\n      <g>\r\n       <use style=\"stroke:#000000;stroke-width:0.8;\" x=\"53.328125\" xlink:href=\"#m5c93c95f63\" y=\"160.128977\"/>\r\n      </g>\r\n     </g>\r\n     <g id=\"text_11\">\r\n      <!-- 800 -->\r\n      <g transform=\"translate(27.240625 163.928196)scale(0.1 -0.1)\">\r\n       <defs>\r\n        <path d=\"M 31.78125 34.625 \r\nQ 24.75 34.625 20.71875 30.859375 \r\nQ 16.703125 27.09375 16.703125 20.515625 \r\nQ 16.703125 13.921875 20.71875 10.15625 \r\nQ 24.75 6.390625 31.78125 6.390625 \r\nQ 38.8125 6.390625 42.859375 10.171875 \r\nQ 46.921875 13.96875 46.921875 20.515625 \r\nQ 46.921875 27.09375 42.890625 30.859375 \r\nQ 38.875 34.625 31.78125 34.625 \r\nz\r\nM 21.921875 38.8125 \r\nQ 15.578125 40.375 12.03125 44.71875 \r\nQ 8.5 49.078125 8.5 55.328125 \r\nQ 8.5 64.0625 14.71875 69.140625 \r\nQ 20.953125 74.21875 31.78125 74.21875 \r\nQ 42.671875 74.21875 48.875 69.140625 \r\nQ 55.078125 64.0625 55.078125 55.328125 \r\nQ 55.078125 49.078125 51.53125 44.71875 \r\nQ 48 40.375 41.703125 38.8125 \r\nQ 48.828125 37.15625 52.796875 32.3125 \r\nQ 56.78125 27.484375 56.78125 20.515625 \r\nQ 56.78125 9.90625 50.3125 4.234375 \r\nQ 43.84375 -1.421875 31.78125 -1.421875 \r\nQ 19.734375 -1.421875 13.25 4.234375 \r\nQ 6.78125 9.90625 6.78125 20.515625 \r\nQ 6.78125 27.484375 10.78125 32.3125 \r\nQ 14.796875 37.15625 21.921875 38.8125 \r\nz\r\nM 18.3125 54.390625 \r\nQ 18.3125 48.734375 21.84375 45.5625 \r\nQ 25.390625 42.390625 31.78125 42.390625 \r\nQ 38.140625 42.390625 41.71875 45.5625 \r\nQ 45.3125 48.734375 45.3125 54.390625 \r\nQ 45.3125 60.0625 41.71875 63.234375 \r\nQ 38.140625 66.40625 31.78125 66.40625 \r\nQ 25.390625 66.40625 21.84375 63.234375 \r\nQ 18.3125 60.0625 18.3125 54.390625 \r\nz\r\n\" id=\"DejaVuSans-56\"/>\r\n       </defs>\r\n       <use xlink:href=\"#DejaVuSans-56\"/>\r\n       <use x=\"63.623047\" xlink:href=\"#DejaVuSans-48\"/>\r\n       <use x=\"127.246094\" xlink:href=\"#DejaVuSans-48\"/>\r\n      </g>\r\n     </g>\r\n    </g>\r\n    <g id=\"ytick_6\">\r\n     <g id=\"line2d_21\">\r\n      <path clip-path=\"url(#p6f8482093c)\" d=\"M 53.328125 118.279425 \r\nL 611.328125 118.279425 \r\n\" style=\"fill:none;stroke:#b0b0b0;stroke-linecap:square;stroke-width:0.8;\"/>\r\n     </g>\r\n     <g id=\"line2d_22\">\r\n      <g>\r\n       <use style=\"stroke:#000000;stroke-width:0.8;\" x=\"53.328125\" xlink:href=\"#m5c93c95f63\" y=\"118.279425\"/>\r\n      </g>\r\n     </g>\r\n     <g id=\"text_12\">\r\n      <!-- 1000 -->\r\n      <g transform=\"translate(20.878125 122.078643)scale(0.1 -0.1)\">\r\n       <use xlink:href=\"#DejaVuSans-49\"/>\r\n       <use x=\"63.623047\" xlink:href=\"#DejaVuSans-48\"/>\r\n       <use x=\"127.246094\" xlink:href=\"#DejaVuSans-48\"/>\r\n       <use x=\"190.869141\" xlink:href=\"#DejaVuSans-48\"/>\r\n      </g>\r\n     </g>\r\n    </g>\r\n    <g id=\"ytick_7\">\r\n     <g id=\"line2d_23\">\r\n      <path clip-path=\"url(#p6f8482093c)\" d=\"M 53.328125 76.429872 \r\nL 611.328125 76.429872 \r\n\" style=\"fill:none;stroke:#b0b0b0;stroke-linecap:square;stroke-width:0.8;\"/>\r\n     </g>\r\n     <g id=\"line2d_24\">\r\n      <g>\r\n       <use style=\"stroke:#000000;stroke-width:0.8;\" x=\"53.328125\" xlink:href=\"#m5c93c95f63\" y=\"76.429872\"/>\r\n      </g>\r\n     </g>\r\n     <g id=\"text_13\">\r\n      <!-- 1200 -->\r\n      <g transform=\"translate(20.878125 80.229091)scale(0.1 -0.1)\">\r\n       <use xlink:href=\"#DejaVuSans-49\"/>\r\n       <use x=\"63.623047\" xlink:href=\"#DejaVuSans-50\"/>\r\n       <use x=\"127.246094\" xlink:href=\"#DejaVuSans-48\"/>\r\n       <use x=\"190.869141\" xlink:href=\"#DejaVuSans-48\"/>\r\n      </g>\r\n     </g>\r\n    </g>\r\n    <g id=\"ytick_8\">\r\n     <g id=\"line2d_25\">\r\n      <path clip-path=\"url(#p6f8482093c)\" d=\"M 53.328125 34.58032 \r\nL 611.328125 34.58032 \r\n\" style=\"fill:none;stroke:#b0b0b0;stroke-linecap:square;stroke-width:0.8;\"/>\r\n     </g>\r\n     <g id=\"line2d_26\">\r\n      <g>\r\n       <use style=\"stroke:#000000;stroke-width:0.8;\" x=\"53.328125\" xlink:href=\"#m5c93c95f63\" y=\"34.58032\"/>\r\n      </g>\r\n     </g>\r\n     <g id=\"text_14\">\r\n      <!-- 1400 -->\r\n      <g transform=\"translate(20.878125 38.379539)scale(0.1 -0.1)\">\r\n       <use xlink:href=\"#DejaVuSans-49\"/>\r\n       <use x=\"63.623047\" xlink:href=\"#DejaVuSans-52\"/>\r\n       <use x=\"127.246094\" xlink:href=\"#DejaVuSans-48\"/>\r\n       <use x=\"190.869141\" xlink:href=\"#DejaVuSans-48\"/>\r\n      </g>\r\n     </g>\r\n    </g>\r\n    <g id=\"text_15\">\r\n     <!-- Value -->\r\n     <g transform=\"translate(14.798438 184.01125)rotate(-90)scale(0.1 -0.1)\">\r\n      <defs>\r\n       <path d=\"M 28.609375 0 \r\nL 0.78125 72.90625 \r\nL 11.078125 72.90625 \r\nL 34.1875 11.53125 \r\nL 57.328125 72.90625 \r\nL 67.578125 72.90625 \r\nL 39.796875 0 \r\nz\r\n\" id=\"DejaVuSans-86\"/>\r\n       <path d=\"M 34.28125 27.484375 \r\nQ 23.390625 27.484375 19.1875 25 \r\nQ 14.984375 22.515625 14.984375 16.5 \r\nQ 14.984375 11.71875 18.140625 8.90625 \r\nQ 21.296875 6.109375 26.703125 6.109375 \r\nQ 34.1875 6.109375 38.703125 11.40625 \r\nQ 43.21875 16.703125 43.21875 25.484375 \r\nL 43.21875 27.484375 \r\nz\r\nM 52.203125 31.203125 \r\nL 52.203125 0 \r\nL 43.21875 0 \r\nL 43.21875 8.296875 \r\nQ 40.140625 3.328125 35.546875 0.953125 \r\nQ 30.953125 -1.421875 24.3125 -1.421875 \r\nQ 15.921875 -1.421875 10.953125 3.296875 \r\nQ 6 8.015625 6 15.921875 \r\nQ 6 25.140625 12.171875 29.828125 \r\nQ 18.359375 34.515625 30.609375 34.515625 \r\nL 43.21875 34.515625 \r\nL 43.21875 35.40625 \r\nQ 43.21875 41.609375 39.140625 45 \r\nQ 35.0625 48.390625 27.6875 48.390625 \r\nQ 23 48.390625 18.546875 47.265625 \r\nQ 14.109375 46.140625 10.015625 43.890625 \r\nL 10.015625 52.203125 \r\nQ 14.9375 54.109375 19.578125 55.046875 \r\nQ 24.21875 56 28.609375 56 \r\nQ 40.484375 56 46.34375 49.84375 \r\nQ 52.203125 43.703125 52.203125 31.203125 \r\nz\r\n\" id=\"DejaVuSans-97\"/>\r\n       <path d=\"M 9.421875 75.984375 \r\nL 18.40625 75.984375 \r\nL 18.40625 0 \r\nL 9.421875 0 \r\nz\r\n\" id=\"DejaVuSans-108\"/>\r\n       <path d=\"M 8.5 21.578125 \r\nL 8.5 54.6875 \r\nL 17.484375 54.6875 \r\nL 17.484375 21.921875 \r\nQ 17.484375 14.15625 20.5 10.265625 \r\nQ 23.53125 6.390625 29.59375 6.390625 \r\nQ 36.859375 6.390625 41.078125 11.03125 \r\nQ 45.3125 15.671875 45.3125 23.6875 \r\nL 45.3125 54.6875 \r\nL 54.296875 54.6875 \r\nL 54.296875 0 \r\nL 45.3125 0 \r\nL 45.3125 8.40625 \r\nQ 42.046875 3.421875 37.71875 1 \r\nQ 33.40625 -1.421875 27.6875 -1.421875 \r\nQ 18.265625 -1.421875 13.375 4.4375 \r\nQ 8.5 10.296875 8.5 21.578125 \r\nz\r\nM 31.109375 56 \r\nz\r\n\" id=\"DejaVuSans-117\"/>\r\n      </defs>\r\n      <use xlink:href=\"#DejaVuSans-86\"/>\r\n      <use x=\"60.658203\" xlink:href=\"#DejaVuSans-97\"/>\r\n      <use x=\"121.9375\" xlink:href=\"#DejaVuSans-108\"/>\r\n      <use x=\"149.720703\" xlink:href=\"#DejaVuSans-117\"/>\r\n      <use x=\"213.099609\" xlink:href=\"#DejaVuSans-101\"/>\r\n     </g>\r\n    </g>\r\n   </g>\r\n   <g id=\"line2d_27\">\r\n    <path clip-path=\"url(#p6f8482093c)\" d=\"M 78.691761 118.279425 \r\nL 585.964489 22.025455 \r\nL 585.964489 22.025455 \r\n\" style=\"fill:none;stroke:#1f77b4;stroke-linecap:square;stroke-width:1.5;\"/>\r\n   </g>\r\n   <g id=\"line2d_28\">\r\n    <path clip-path=\"url(#p6f8482093c)\" d=\"M 78.691761 313.681402 \r\nL 80.897295 312.768644 \r\nL 82.000062 313.23647 \r\nL 83.102829 313.884866 \r\nL 85.308362 313.463237 \r\nL 88.616663 312.984798 \r\nL 89.719429 313.477356 \r\nL 90.822196 313.059939 \r\nL 91.924963 313.275392 \r\nL 93.02773 312.372403 \r\nL 94.130497 313.334472 \r\nL 95.233263 312.793712 \r\nL 96.33603 313.324711 \r\nL 97.438797 313.432237 \r\nL 98.541564 313.98211 \r\nL 99.644331 314.096443 \r\nL 100.747097 313.80873 \r\nL 101.849864 313.401673 \r\nL 102.952631 313.7828 \r\nL 104.055398 313.804011 \r\nL 105.158165 312.78783 \r\nL 106.260931 312.533191 \r\nL 107.363698 312.520057 \r\nL 108.466465 313.355174 \r\nL 109.569232 313.310685 \r\nL 110.671999 313.454675 \r\nL 112.877532 314.083229 \r\nL 113.980299 314.636697 \r\nL 115.083066 314.052167 \r\nL 116.185833 313.745228 \r\nL 117.288599 313.653313 \r\nL 118.391366 312.970307 \r\nL 119.494133 313.786942 \r\nL 120.5969 314.450314 \r\nL 121.699667 314.105474 \r\nL 122.802433 313.454745 \r\nL 123.9052 312.623824 \r\nL 125.007967 313.216206 \r\nL 128.316267 313.488856 \r\nL 129.419034 313.172108 \r\nL 130.521801 313.23325 \r\nL 131.624568 313.920388 \r\nL 132.727334 313.144652 \r\nL 133.830101 312.994623 \r\nL 134.932868 312.962601 \r\nL 136.035635 313.293456 \r\nL 137.138402 313.375118 \r\nL 138.241168 313.311676 \r\nL 141.549469 313.910053 \r\nL 142.652236 313.016866 \r\nL 144.857769 313.395513 \r\nL 145.960536 313.183463 \r\nL 147.063303 314.501173 \r\nL 148.16607 313.75556 \r\nL 149.268836 314.430504 \r\nL 150.371603 314.049051 \r\nL 151.47437 314.464445 \r\nL 152.577137 314.492252 \r\nL 153.679904 313.907531 \r\nL 154.78267 313.537365 \r\nL 159.193738 313.344277 \r\nL 160.296504 313.813702 \r\nL 161.399271 313.536653 \r\nL 162.502038 313.47312 \r\nL 163.604805 314.456807 \r\nL 165.810338 313.501949 \r\nL 166.913105 312.634116 \r\nL 168.015872 313.029955 \r\nL 169.118639 313.685135 \r\nL 170.221406 313.530054 \r\nL 171.324172 312.630601 \r\nL 172.426939 312.574583 \r\nL 173.529706 312.81337 \r\nL 174.632473 312.690837 \r\nL 175.73524 312.800666 \r\nL 176.838006 313.27992 \r\nL 177.940773 313.239814 \r\nL 179.04354 313.518029 \r\nL 181.249074 313.093614 \r\nL 182.35184 313.15929 \r\nL 183.454607 312.710078 \r\nL 184.557374 309.731092 \r\nL 185.660141 307.760405 \r\nL 186.762908 307.363321 \r\nL 187.865674 306.129045 \r\nL 188.968441 305.945554 \r\nL 190.071208 304.928217 \r\nL 191.173975 306.333535 \r\nL 192.276742 305.395119 \r\nL 193.379508 305.442961 \r\nL 194.482275 304.450701 \r\nL 195.585042 305.578866 \r\nL 196.687809 304.975651 \r\nL 197.790576 305.508426 \r\nL 199.996109 304.952235 \r\nL 201.098876 304.551466 \r\nL 204.407176 304.703592 \r\nL 205.509943 305.084887 \r\nL 206.61271 304.771262 \r\nL 208.818244 304.546683 \r\nL 209.92101 305.242491 \r\nL 211.023777 304.831078 \r\nL 212.126544 304.890282 \r\nL 213.229311 304.505411 \r\nL 214.332078 304.932948 \r\nL 215.434844 305.968772 \r\nL 216.537611 305.061915 \r\nL 217.640378 306.122499 \r\nL 218.743145 305.736976 \r\nL 219.845912 306.447506 \r\nL 224.256979 306.037384 \r\nL 225.359746 305.481866 \r\nL 226.462512 305.768618 \r\nL 227.565279 306.276737 \r\nL 228.668046 306.202781 \r\nL 229.770813 305.917086 \r\nL 230.87358 306.705419 \r\nL 231.976346 306.866041 \r\nL 233.079113 306.656363 \r\nL 234.18188 307.049922 \r\nL 235.284647 306.271654 \r\nL 236.387414 307.099536 \r\nL 237.49018 307.049505 \r\nL 239.695714 307.539982 \r\nL 240.798481 308.126498 \r\nL 241.901248 308.484774 \r\nL 243.004014 307.86285 \r\nL 245.209548 308.536839 \r\nL 246.312315 309.520247 \r\nL 248.517848 309.555815 \r\nL 249.620615 308.404887 \r\nL 250.723382 308.321542 \r\nL 251.826149 308.396309 \r\nL 252.928916 308.076659 \r\nL 254.031682 308.01957 \r\nL 255.134449 308.61829 \r\nL 256.237216 309.990909 \r\nL 257.339983 309.128084 \r\nL 258.44275 310.038883 \r\nL 259.545516 310.028757 \r\nL 260.648283 310.155774 \r\nL 261.75105 308.665583 \r\nL 262.853817 308.618774 \r\nL 263.956583 308.783989 \r\nL 265.05935 309.749826 \r\nL 266.162117 309.25323 \r\nL 267.264884 309.426229 \r\nL 268.367651 310.076728 \r\nL 269.470417 310.267722 \r\nL 270.573184 310.755864 \r\nL 271.675951 311.070163 \r\nL 272.778718 311.664425 \r\nL 273.881485 311.977627 \r\nL 274.984251 312.000135 \r\nL 276.087018 312.167593 \r\nL 277.189785 312.516385 \r\nL 278.292552 312.23928 \r\nL 279.395319 311.3759 \r\nL 280.498085 311.294472 \r\nL 281.600852 312.416853 \r\nL 282.703619 313.172919 \r\nL 283.806386 312.636996 \r\nL 284.909153 312.955186 \r\nL 287.114686 313.000874 \r\nL 288.217453 313.493607 \r\nL 289.32022 313.178027 \r\nL 290.422987 314.132125 \r\nL 291.525753 314.028732 \r\nL 292.62852 313.765544 \r\nL 293.731287 314.43439 \r\nL 294.834054 314.156409 \r\nL 295.936821 314.103716 \r\nL 297.039587 313.750735 \r\nL 298.142354 313.972228 \r\nL 299.245121 313.735836 \r\nL 302.553421 314.718095 \r\nL 303.656188 314.602635 \r\nL 304.758955 314.854011 \r\nL 305.861722 314.821467 \r\nL 306.964489 315.666482 \r\nL 308.067255 315.806326 \r\nL 309.170022 316.279189 \r\nL 310.272789 315.485585 \r\nL 311.375556 315.970698 \r\nL 313.581089 316.683363 \r\nL 314.683856 316.150942 \r\nL 315.786623 316.246399 \r\nL 316.88939 315.727971 \r\nL 317.992157 316.678473 \r\nL 319.094923 316.441646 \r\nL 320.19769 317.171438 \r\nL 321.300457 316.099896 \r\nL 322.403224 317.013409 \r\nL 323.505991 316.831285 \r\nL 324.608757 317.077292 \r\nL 325.711524 317.002004 \r\nL 326.814291 317.050566 \r\nL 327.917058 317.474649 \r\nL 330.122591 317.762842 \r\nL 331.225358 317.367188 \r\nL 332.328125 316.796072 \r\nL 333.430892 317.225352 \r\nL 334.533659 318.449382 \r\nL 335.636425 318.534545 \r\nL 336.739192 317.626808 \r\nL 337.841959 317.760227 \r\nL 340.047493 317.482709 \r\nL 341.150259 318.091084 \r\nL 342.253026 318.136456 \r\nL 343.355793 317.891417 \r\nL 344.45856 318.508805 \r\nL 345.561327 314.783844 \r\nL 347.76686 311.655518 \r\nL 348.869627 311.077309 \r\nL 349.972394 311.354309 \r\nL 351.075161 310.755615 \r\nL 352.177927 310.584763 \r\nL 353.280694 310.248516 \r\nL 354.383461 310.78478 \r\nL 355.486228 309.947318 \r\nL 356.588995 309.784504 \r\nL 357.691761 310.308671 \r\nL 358.794528 309.846896 \r\nL 359.897295 309.203999 \r\nL 361.000062 310.070751 \r\nL 362.102829 308.544765 \r\nL 363.205595 309.173227 \r\nL 364.308362 309.202473 \r\nL 366.513896 309.821494 \r\nL 368.719429 309.326864 \r\nL 369.822196 309.994965 \r\nL 370.924963 309.987194 \r\nL 372.02773 310.429205 \r\nL 373.130497 310.162881 \r\nL 374.233263 310.621502 \r\nL 375.33603 310.385143 \r\nL 376.438797 309.782375 \r\nL 377.541564 309.325169 \r\nL 378.644331 309.019241 \r\nL 379.747097 309.984001 \r\nL 380.849864 310.197157 \r\nL 381.952631 309.643782 \r\nL 383.055398 309.561055 \r\nL 384.158165 308.724431 \r\nL 385.260931 308.963691 \r\nL 387.466465 309.690726 \r\nL 388.569232 309.92341 \r\nL 389.671999 309.849543 \r\nL 390.774765 309.494001 \r\nL 391.877532 309.434354 \r\nL 392.980299 309.757643 \r\nL 394.083066 310.460045 \r\nL 395.185833 311.01403 \r\nL 396.288599 310.495711 \r\nL 397.391366 310.711881 \r\nL 398.494133 311.174078 \r\nL 399.5969 310.827493 \r\nL 400.699667 309.103472 \r\nL 401.802433 309.407698 \r\nL 402.9052 309.099099 \r\nL 404.007967 309.906852 \r\nL 405.110734 309.841323 \r\nL 406.2135 309.535354 \r\nL 407.316267 309.897608 \r\nL 409.521801 309.709269 \r\nL 410.624568 310.177968 \r\nL 411.727334 309.857421 \r\nL 412.830101 309.755725 \r\nL 413.932868 310.130704 \r\nL 415.035635 309.877219 \r\nL 416.138402 310.412647 \r\nL 417.241168 310.043641 \r\nL 418.343935 310.04577 \r\nL 419.446702 309.470004 \r\nL 421.652236 309.733546 \r\nL 422.755002 309.58983 \r\nL 423.857769 309.163694 \r\nL 424.960536 309.163654 \r\nL 426.063303 309.50199 \r\nL 427.16607 310.508643 \r\nL 428.268836 310.666899 \r\nL 430.47437 310.597089 \r\nL 431.577137 310.316589 \r\nL 432.679904 310.295939 \r\nL 433.78267 309.812228 \r\nL 434.885437 309.965521 \r\nL 435.988204 309.655053 \r\nL 437.090971 309.840408 \r\nL 438.193738 310.727931 \r\nL 439.296504 311.006392 \r\nL 440.399271 310.778738 \r\nL 441.502038 310.863633 \r\nL 442.604805 310.153092 \r\nL 444.810338 309.188801 \r\nL 445.913105 309.460454 \r\nL 447.015872 309.195174 \r\nL 449.221406 309.665532 \r\nL 450.324172 310.238211 \r\nL 451.426939 310.396379 \r\nL 452.529706 310.340552 \r\nL 453.632473 310.003599 \r\nL 454.73524 310.140279 \r\nL 456.940773 309.754217 \r\nL 459.146307 309.065619 \r\nL 461.35184 311.146497 \r\nL 462.454607 310.595579 \r\nL 463.557374 310.785475 \r\nL 464.660141 310.471378 \r\nL 466.865674 311.356148 \r\nL 469.071208 309.904612 \r\nL 470.173975 310.127217 \r\nL 471.276742 311.046469 \r\nL 472.379508 311.153076 \r\nL 473.482275 310.607922 \r\nL 474.585042 310.679246 \r\nL 475.687809 310.341717 \r\nL 476.790576 310.36316 \r\nL 478.996109 309.749975 \r\nL 480.098876 310.493177 \r\nL 481.201643 309.538685 \r\nL 484.509943 310.369243 \r\nL 487.818244 310.379482 \r\nL 488.92101 309.632428 \r\nL 490.023777 310.079803 \r\nL 491.126544 310.719556 \r\nL 492.229311 309.854446 \r\nL 493.332078 310.050808 \r\nL 494.434844 309.911267 \r\nL 495.537611 309.620432 \r\nL 496.640378 310.29013 \r\nL 497.743145 308.979772 \r\nL 499.948678 309.603794 \r\nL 501.051445 308.912452 \r\nL 502.154212 309.539594 \r\nL 503.256979 309.422826 \r\nL 504.359746 309.514209 \r\nL 505.462512 308.939135 \r\nL 506.565279 308.695765 \r\nL 507.668046 309.046923 \r\nL 508.770813 309.88779 \r\nL 509.87358 309.65586 \r\nL 510.976346 309.998442 \r\nL 512.079113 308.892985 \r\nL 513.18188 309.477143 \r\nL 514.284647 309.426868 \r\nL 515.387414 309.730272 \r\nL 516.49018 310.41144 \r\nL 517.592947 310.43156 \r\nL 518.695714 309.877857 \r\nL 519.798481 309.95849 \r\nL 520.901248 310.366332 \r\nL 522.004014 310.016512 \r\nL 523.106781 309.415824 \r\nL 524.209548 309.014528 \r\nL 525.312315 308.979889 \r\nL 527.517848 310.518184 \r\nL 528.620615 309.420029 \r\nL 529.723382 309.848834 \r\nL 530.826149 309.665771 \r\nL 531.928916 309.284618 \r\nL 533.031682 309.39385 \r\nL 534.134449 309.175027 \r\nL 535.237216 308.363186 \r\nL 536.339983 309.353279 \r\nL 537.44275 308.871507 \r\nL 538.545516 309.45176 \r\nL 539.648283 309.432254 \r\nL 540.75105 308.799543 \r\nL 541.853817 308.796969 \r\nL 542.956583 309.114593 \r\nL 544.05935 308.937516 \r\nL 547.367651 310.189098 \r\nL 548.470417 310.915668 \r\nL 549.573184 309.510001 \r\nL 550.675951 309.995304 \r\nL 551.778718 309.671632 \r\nL 552.881485 310.191582 \r\nL 553.984251 309.574037 \r\nL 555.087018 309.422446 \r\nL 556.189785 308.940546 \r\nL 557.292552 309.620126 \r\nL 560.600852 309.701317 \r\nL 561.703619 308.972488 \r\nL 562.806386 309.015508 \r\nL 563.909153 308.88462 \r\nL 565.011919 309.140943 \r\nL 566.114686 308.474868 \r\nL 567.217453 309.040796 \r\nL 568.32022 309.467178 \r\nL 569.422987 309.75199 \r\nL 570.525753 309.893916 \r\nL 571.62852 309.81217 \r\nL 573.834054 308.998882 \r\nL 576.039587 309.076866 \r\nL 577.142354 308.799412 \r\nL 578.245121 308.653792 \r\nL 579.347888 307.919151 \r\nL 580.450655 308.368899 \r\nL 581.553421 309.601479 \r\nL 582.656188 309.349441 \r\nL 583.758955 309.295882 \r\nL 584.861722 308.764054 \r\nL 585.964489 308.537974 \r\nL 585.964489 308.537974 \r\n\" style=\"fill:none;stroke:#ff7f0e;stroke-linecap:square;stroke-width:1.5;\"/>\r\n   </g>\r\n   <g id=\"patch_3\">\r\n    <path d=\"M 53.328125 333.36 \r\nL 53.328125 7.2 \r\n\" style=\"fill:none;stroke:#000000;stroke-linecap:square;stroke-linejoin:miter;stroke-width:0.8;\"/>\r\n   </g>\r\n   <g id=\"patch_4\">\r\n    <path d=\"M 611.328125 333.36 \r\nL 611.328125 7.2 \r\n\" style=\"fill:none;stroke:#000000;stroke-linecap:square;stroke-linejoin:miter;stroke-width:0.8;\"/>\r\n   </g>\r\n   <g id=\"patch_5\">\r\n    <path d=\"M 53.328125 333.36 \r\nL 611.328125 333.36 \r\n\" style=\"fill:none;stroke:#000000;stroke-linecap:square;stroke-linejoin:miter;stroke-width:0.8;\"/>\r\n   </g>\r\n   <g id=\"patch_6\">\r\n    <path d=\"M 53.328125 7.2 \r\nL 611.328125 7.2 \r\n\" style=\"fill:none;stroke:#000000;stroke-linecap:square;stroke-linejoin:miter;stroke-width:0.8;\"/>\r\n   </g>\r\n  </g>\r\n </g>\r\n <defs>\r\n  <clipPath id=\"p6f8482093c\">\r\n   <rect height=\"326.16\" width=\"558\" x=\"53.328125\" y=\"7.2\"/>\r\n  </clipPath>\r\n </defs>\r\n</svg>\r\n",
      "image/png": "[encoded data removed]"
     },
     "metadata": {
      "needs_background": "light"
     }
    }
   ],
   "source": [
    "import matplotlib.pyplot as plt\n",
    "\n",
    "forecast = []\n",
    "\n",
    "for time in range(len(series) - window_size):\n",
    "  forecast.append(model.predict(series[time:time + window_size][np.newaxis]))\n",
    "\n",
    "forecast = forecast[split_time-window_size:]\n",
    "results = np.array(forecast)[:, 0, 0]\n",
    "\n",
    "\n",
    "plt.figure(figsize=(10, 6))\n",
    "\n",
    "plot_series(time_valid, x_valid)\n",
    "plot_series(time_valid, results)"
   ]
  },
  {
   "cell_type": "code",
   "execution_count": 43,
   "metadata": {},
   "outputs": [
    {
     "output_type": "execute_result",
     "data": {
      "text/plain": "1150.4443"
     },
     "metadata": {},
     "execution_count": 43
    }
   ],
   "source": [
    "tf.keras.metrics.mean_absolute_error(x_valid, results).numpy()"
   ]
  },
  {
   "cell_type": "code",
   "execution_count": null,
   "metadata": {},
   "outputs": [],
   "source": []
  }
 ]
}